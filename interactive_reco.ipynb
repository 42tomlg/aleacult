{
 "cells": [
  {
   "cell_type": "code",
   "execution_count": 3,
   "id": "handed-championship",
   "metadata": {},
   "outputs": [],
   "source": [
    "from ipywidgets import interact, fixed\n",
    "import ipywidgets as widgets\n",
    "from aleacult import *"
   ]
  },
  {
   "cell_type": "markdown",
   "id": "assigned-finding",
   "metadata": {
    "tags": []
   },
   "source": [
    "Je vais plutôt essayer de faire une fonction qui plot la fonction exponentielle: "
   ]
  },
  {
   "cell_type": "code",
   "execution_count": 4,
   "id": "elementary-helping",
   "metadata": {},
   "outputs": [],
   "source": [
    "interactive_plot = widgets.interactive(plot_pref, p=(0.05,0.95,0.05), value=(1,80))\n",
    "output = interactive_plot.children[-1]\n",
    "output.height = '350px'"
   ]
  },
  {
   "cell_type": "markdown",
   "id": "numerous-statement",
   "metadata": {},
   "source": [
    "clairement j'utilise pas la meilleure distribution car j'ai des résultats débiles..."
   ]
  },
  {
   "cell_type": "code",
   "execution_count": 5,
   "id": "facial-objective",
   "metadata": {},
   "outputs": [
    {
     "data": {
      "application/vnd.jupyter.widget-view+json": {
       "model_id": "2430505c825a49f29d294c4d5ac2e226",
       "version_major": 2,
       "version_minor": 0
      },
      "text/plain": [
       "interactive(children=(FloatSlider(value=0.5, description='p', max=0.95, min=0.05, step=0.05), IntSlider(value=…"
      ]
     },
     "metadata": {},
     "output_type": "display_data"
    }
   ],
   "source": [
    "interactive_plot"
   ]
  },
  {
   "cell_type": "code",
   "execution_count": 12,
   "id": "ecological-shakespeare",
   "metadata": {
    "tags": []
   },
   "outputs": [
    {
     "name": "stdout",
     "output_type": "stream",
     "text": [
      "(2000, 15)\n"
     ]
    }
   ],
   "source": [
    "test=bouton_magique()\n",
    "print(test)"
   ]
  },
  {
   "cell_type": "code",
   "execution_count": 23,
   "id": "specific-above",
   "metadata": {},
   "outputs": [],
   "source": [
    "year = 1950"
   ]
  },
  {
   "cell_type": "code",
   "execution_count": 30,
   "id": "eleven-vatican",
   "metadata": {
    "tags": []
   },
   "outputs": [],
   "source": [
    "N = N_from_cat(year)\n",
    "classement = tirage_classement(pref_lambda_boltzmann(0.5,20,N),N)"
   ]
  },
  {
   "cell_type": "code",
   "execution_count": 31,
   "id": "italian-helping",
   "metadata": {},
   "outputs": [
    {
     "data": {
      "text/plain": [
       "25"
      ]
     },
     "execution_count": 31,
     "metadata": {},
     "output_type": "execute_result"
    }
   ],
   "source": [
    "classement"
   ]
  },
  {
   "cell_type": "code",
   "execution_count": 32,
   "id": "authentic-colorado",
   "metadata": {
    "tags": []
   },
   "outputs": [
    {
     "data": {
      "text/plain": [
       "'https://www.senscritique.com/album/No3_Georges_Brassens_sa_guitare_et_les_rythmes/6157105'"
      ]
     },
     "execution_count": 32,
     "metadata": {},
     "output_type": "execute_result"
    }
   ],
   "source": [
    "give_album_link(year,classement)"
   ]
  },
  {
   "cell_type": "markdown",
   "id": "southern-abraham",
   "metadata": {},
   "source": [
    "en plus rapide on peut directement trouver le string du nombre qui nous intéresse"
   ]
  }
 ],
 "metadata": {
  "kernelspec": {
   "display_name": "Python 3",
   "language": "python",
   "name": "python3"
  },
  "language_info": {
   "codemirror_mode": {
    "name": "ipython",
    "version": 3
   },
   "file_extension": ".py",
   "mimetype": "text/x-python",
   "name": "python",
   "nbconvert_exporter": "python",
   "pygments_lexer": "ipython3",
   "version": "3.7.7"
  }
 },
 "nbformat": 4,
 "nbformat_minor": 5
}
