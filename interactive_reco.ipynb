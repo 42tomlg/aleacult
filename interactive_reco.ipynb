{
 "cells": [
  {
   "cell_type": "code",
   "execution_count": 1,
   "id": "limited-asbestos",
   "metadata": {},
   "outputs": [],
   "source": [
    "from ipywidgets import interact, fixed\n",
    "import ipywidgets as widgets\n",
    "from aleacult import *"
   ]
  },
  {
   "cell_type": "code",
   "execution_count": 2,
   "id": "agricultural-marine",
   "metadata": {},
   "outputs": [
    {
     "data": {
      "application/vnd.jupyter.widget-view+json": {
       "model_id": "dcd42206bc8b4315935ae7bf1fbaffad",
       "version_major": 2,
       "version_minor": 0
      },
      "text/plain": [
       "interactive(children=(IntSlider(value=10, description='value', max=30, min=-10), Output()), _dom_classes=('wid…"
      ]
     },
     "metadata": {},
     "output_type": "display_data"
    },
    {
     "data": {
      "text/plain": [
       "<function aleacult.pref_lambda(p=0.5, value=10)>"
      ]
     },
     "execution_count": 2,
     "metadata": {},
     "output_type": "execute_result"
    }
   ],
   "source": [
    "interact(pref_lambda, p=fixed(0.5),value=10)"
   ]
  },
  {
   "cell_type": "markdown",
   "id": "refined-invalid",
   "metadata": {},
   "source": [
    "Je vais plutôt essayer de faire une fonction qui plot la fonction exponentielle: "
   ]
  },
  {
   "cell_type": "code",
   "execution_count": 3,
   "id": "jewish-married",
   "metadata": {},
   "outputs": [],
   "source": [
    "interactive_plot = widgets.interactive(draw_exp, p=fixed(0.5), value=(0,80))\n",
    "output = interactive_plot.children[-1]\n",
    "output.height = '350px'"
   ]
  },
  {
   "cell_type": "code",
   "execution_count": 4,
   "id": "dense-toronto",
   "metadata": {},
   "outputs": [
    {
     "data": {
      "application/vnd.jupyter.widget-view+json": {
       "model_id": "2ace0838f19d46b49458273973acf18d",
       "version_major": 2,
       "version_minor": 0
      },
      "text/plain": [
       "interactive(children=(IntSlider(value=80, description='value', max=80), Output()), _dom_classes=('widget-inter…"
      ]
     },
     "metadata": {},
     "output_type": "display_data"
    }
   ],
   "source": [
    "interactive_plot"
   ]
  },
  {
   "cell_type": "code",
   "execution_count": 7,
   "id": "minimal-corps",
   "metadata": {},
   "outputs": [
    {
     "data": {
      "text/plain": [
       "(2000, 27)"
      ]
     },
     "execution_count": 7,
     "metadata": {},
     "output_type": "execute_result"
    }
   ],
   "source": [
    "bouton_magique()"
   ]
  },
  {
   "cell_type": "markdown",
   "id": "growing-given",
   "metadata": {},
   "source": [
    "Test du parser pyhton"
   ]
  },
  {
   "cell_type": "code",
   "execution_count": 11,
   "id": "searching-opposition",
   "metadata": {},
   "outputs": [],
   "source": [
    "from bs4 import BeautifulSoup\n",
    "import requests"
   ]
  },
  {
   "cell_type": "code",
   "execution_count": 37,
   "id": "tutorial-privacy",
   "metadata": {},
   "outputs": [],
   "source": [
    "webpage = 'https://www.senscritique.com/top/resultats/Les_meilleurs_albums_de_2019/2301842'"
   ]
  },
  {
   "cell_type": "code",
   "execution_count": 38,
   "id": "pleasant-velvet",
   "metadata": {},
   "outputs": [],
   "source": [
    "req = requests.get(webpage)"
   ]
  },
  {
   "cell_type": "markdown",
   "id": "mineral-position",
   "metadata": {},
   "source": [
    "Un truc à régler sera de voir si on peut charger toute la page avant de l'aspirer..."
   ]
  },
  {
   "cell_type": "code",
   "execution_count": 39,
   "id": "surprised-darkness",
   "metadata": {},
   "outputs": [],
   "source": [
    "soup = BeautifulSoup(req.text,'lxml')"
   ]
  },
  {
   "cell_type": "code",
   "execution_count": 40,
   "id": "freelance-cleaner",
   "metadata": {},
   "outputs": [
    {
     "data": {
      "text/plain": [
       "'Top des meilleurs albums de 2019'"
      ]
     },
     "execution_count": 40,
     "metadata": {},
     "output_type": "execute_result"
    }
   ],
   "source": [
    "soup.title.string"
   ]
  },
  {
   "cell_type": "markdown",
   "id": "present-pathology",
   "metadata": {},
   "source": [
    "ceci trouve tous les tags de classement"
   ]
  },
  {
   "cell_type": "code",
   "execution_count": 41,
   "id": "opening-formation",
   "metadata": {},
   "outputs": [
    {
     "data": {
      "text/plain": [
       "[<span class=\"elpo-rank-item\">1</span>,\n",
       " <span class=\"elpo-rank-item\">2</span>,\n",
       " <span class=\"elpo-rank-item\">3</span>,\n",
       " <span class=\"elpo-rank-item\">4</span>,\n",
       " <span class=\"elpo-rank-item\">5</span>,\n",
       " <span class=\"elpo-rank-item\">6</span>,\n",
       " <span class=\"elpo-rank-item\">7</span>,\n",
       " <span class=\"elpo-rank-item\">8</span>,\n",
       " <span class=\"elpo-rank-item\">9</span>,\n",
       " <span class=\"elpo-rank-item\">10</span>,\n",
       " <span class=\"elpo-rank-item\">11</span>,\n",
       " <span class=\"elpo-rank-item\">12</span>,\n",
       " <span class=\"elpo-rank-item\">13</span>,\n",
       " <span class=\"elpo-rank-item\">14</span>,\n",
       " <span class=\"elpo-rank-item\">15</span>,\n",
       " <span class=\"elpo-rank-item\">16</span>,\n",
       " <span class=\"elpo-rank-item\">17</span>,\n",
       " <span class=\"elpo-rank-item\">18</span>,\n",
       " <span class=\"elpo-rank-item\">19</span>,\n",
       " <span class=\"elpo-rank-item\">20</span>,\n",
       " <span class=\"elpo-rank-item\">21</span>,\n",
       " <span class=\"elpo-rank-item\">22</span>,\n",
       " <span class=\"elpo-rank-item\">23</span>,\n",
       " <span class=\"elpo-rank-item\">24</span>,\n",
       " <span class=\"elpo-rank-item\">25</span>,\n",
       " <span class=\"elpo-rank-item\">26</span>,\n",
       " <span class=\"elpo-rank-item\">27</span>,\n",
       " <span class=\"elpo-rank-item\">28</span>,\n",
       " <span class=\"elpo-rank-item\">29</span>,\n",
       " <span class=\"elpo-rank-item\">30</span>,\n",
       " <span class=\"elpo-rank-item\">31</span>,\n",
       " <span class=\"elpo-rank-item\">32</span>,\n",
       " <span class=\"elpo-rank-item\">33</span>,\n",
       " <span class=\"elpo-rank-item\">34</span>,\n",
       " <span class=\"elpo-rank-item\">35</span>,\n",
       " <span class=\"elpo-rank-item\">36</span>,\n",
       " <span class=\"elpo-rank-item\">37</span>,\n",
       " <span class=\"elpo-rank-item\">38</span>,\n",
       " <span class=\"elpo-rank-item\">39</span>,\n",
       " <span class=\"elpo-rank-item\">40</span>,\n",
       " <span class=\"elpo-rank-item\">41</span>,\n",
       " <span class=\"elpo-rank-item\">42</span>,\n",
       " <span class=\"elpo-rank-item\">43</span>,\n",
       " <span class=\"elpo-rank-item\">44</span>,\n",
       " <span class=\"elpo-rank-item\">45</span>,\n",
       " <span class=\"elpo-rank-item\">46</span>,\n",
       " <span class=\"elpo-rank-item\">47</span>,\n",
       " <span class=\"elpo-rank-item\">48</span>,\n",
       " <span class=\"elpo-rank-item\">49</span>,\n",
       " <span class=\"elpo-rank-item\">50</span>]"
      ]
     },
     "execution_count": 41,
     "metadata": {},
     "output_type": "execute_result"
    }
   ],
   "source": [
    "soup.find_all(class_=\"elpo-rank-item\")"
   ]
  },
  {
   "cell_type": "markdown",
   "id": "modified-acting",
   "metadata": {},
   "source": [
    "en plus rapide on peut directement trouver le string du nombre qui nous intéresse"
   ]
  },
  {
   "cell_type": "code",
   "execution_count": 46,
   "id": "entitled-trial",
   "metadata": {},
   "outputs": [
    {
     "data": {
      "text/plain": [
       "<a class=\"elco-anchor\" href=\"/album/IGOR/39675458\" id=\"product-title-39675458\">IGOR</a>"
      ]
     },
     "execution_count": 46,
     "metadata": {},
     "output_type": "execute_result"
    }
   ],
   "source": [
    "soup.find(string=\"1\").find_parent(\"li\").a"
   ]
  },
  {
   "cell_type": "code",
   "execution_count": 47,
   "id": "sensitive-favor",
   "metadata": {},
   "outputs": [
    {
     "data": {
      "text/plain": [
       "<a class=\"elco-anchor\" href=\"/album/U_F_O_F/39113433\" id=\"product-title-39113433\">U.F.O.F.</a>"
      ]
     },
     "execution_count": 47,
     "metadata": {},
     "output_type": "execute_result"
    }
   ],
   "source": [
    "soup.find(string=\"29\").find_parent(\"li\").a"
   ]
  },
  {
   "cell_type": "code",
   "execution_count": null,
   "id": "based-validation",
   "metadata": {},
   "outputs": [],
   "source": []
  }
 ],
 "metadata": {
  "kernelspec": {
   "display_name": "Python 3",
   "language": "python",
   "name": "python3"
  },
  "language_info": {
   "codemirror_mode": {
    "name": "ipython",
    "version": 3
   },
   "file_extension": ".py",
   "mimetype": "text/x-python",
   "name": "python",
   "nbconvert_exporter": "python",
   "pygments_lexer": "ipython3",
   "version": "3.7.7"
  }
 },
 "nbformat": 4,
 "nbformat_minor": 5
}
