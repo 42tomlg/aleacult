{
 "cells": [
  {
   "cell_type": "code",
   "execution_count": 1,
   "id": "empirical-possible",
   "metadata": {},
   "outputs": [],
   "source": [
    "\n",
    "import ipywidgets as widgets"
   ]
  },
  {
   "source": [
    "Déjà faire une fonction pour un tirage sur une loi exponentielle"
   ],
   "cell_type": "markdown",
   "metadata": {}
  },
  {
   "source": [
    "from scipy.stats import expon"
   ],
   "cell_type": "code",
   "metadata": {},
   "execution_count": 1,
   "outputs": []
  },
  {
   "cell_type": "code",
   "execution_count": 6,
   "metadata": {},
   "outputs": [
    {
     "output_type": "execute_result",
     "data": {
      "text/plain": [
       "230.25850929940455"
      ]
     },
     "metadata": {},
     "execution_count": 6
    }
   ],
   "source": [
    "expon.ppf(q=0.99,scale=50)"
   ]
  },
  {
   "cell_type": "code",
   "execution_count": null,
   "metadata": {},
   "outputs": [],
   "source": []
  }
 ],
 "metadata": {
  "kernelspec": {
   "display_name": "Python 3",
   "language": "python",
   "name": "python3"
  },
  "language_info": {
   "codemirror_mode": {
    "name": "ipython",
    "version": 3
   },
   "file_extension": ".py",
   "mimetype": "text/x-python",
   "name": "python",
   "nbconvert_exporter": "python",
   "pygments_lexer": "ipython3",
   "version": "3.7.7-final"
  }
 },
 "nbformat": 4,
 "nbformat_minor": 5
}