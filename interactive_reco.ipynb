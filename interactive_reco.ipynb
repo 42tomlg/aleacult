{
 "cells": [
  {
   "cell_type": "code",
   "execution_count": 15,
   "id": "finished-absorption",
   "metadata": {},
   "outputs": [],
   "source": [
    "from ipywidgets import interact, fixed\n",
    "import ipywidgets as widgets\n",
    "import datetime\n",
    "import matplotlib.pyplot as plt\n",
    "import numpy as np"
   ]
  },
  {
   "cell_type": "markdown",
   "id": "liberal-hostel",
   "metadata": {},
   "source": [
    "Déjà faire une fonction pour un tirage sur une loi exponentielle"
   ]
  },
  {
   "cell_type": "code",
   "execution_count": 3,
   "id": "greatest-replication",
   "metadata": {},
   "outputs": [],
   "source": [
    "from scipy.stats import expon\n",
    "import math"
   ]
  },
  {
   "cell_type": "code",
   "execution_count": 4,
   "id": "imported-casting",
   "metadata": {},
   "outputs": [
    {
     "data": {
      "text/plain": [
       "datetime.date(2021, 3, 29)"
      ]
     },
     "execution_count": 4,
     "metadata": {},
     "output_type": "execute_result"
    }
   ],
   "source": [
    "datetime.date.today()"
   ]
  },
  {
   "cell_type": "code",
   "execution_count": 5,
   "id": "determined-message",
   "metadata": {},
   "outputs": [],
   "source": [
    "ten_years = 10 * 365.25\n",
    "\n",
    "def pref_lambda(p=0.5,value=ten_years):\n",
    "    \"donne lambda en fonction du percentile visé\"\n",
    "    return -math.log(1-p)/value\n",
    "\n",
    "def get_scale(lam):\n",
    "    return 1/lam\n",
    "\n"
   ]
  },
  {
   "cell_type": "code",
   "execution_count": 13,
   "id": "infrared-dietary",
   "metadata": {},
   "outputs": [
    {
     "data": {
      "application/vnd.jupyter.widget-view+json": {
       "model_id": "40fbd61777ee456eb8d2c1eccf3430a9",
       "version_major": 2,
       "version_minor": 0
      },
      "text/plain": [
       "interactive(children=(FloatSlider(value=3652.5, description='value', max=10957.5, min=-3652.5), Output()), _do…"
      ]
     },
     "metadata": {},
     "output_type": "display_data"
    },
    {
     "data": {
      "text/plain": [
       "<function __main__.pref_lambda(p=0.5, value=3652.5)>"
      ]
     },
     "execution_count": 13,
     "metadata": {},
     "output_type": "execute_result"
    }
   ],
   "source": [
    "interact(pref_lambda, p=fixed(0.5),value=ten_years)"
   ]
  },
  {
   "cell_type": "markdown",
   "id": "killing-lecture",
   "metadata": {},
   "source": [
    "Je vais plutôt essayer de faire une fonction qui plot la fonction exponentielle: "
   ]
  },
  {
   "cell_type": "code",
   "execution_count": 20,
   "id": "resistant-logic",
   "metadata": {},
   "outputs": [],
   "source": [
    "def draw_exp(p=0.5,value=ten_years):\n",
    "    fig,ax=plt.subplots(1,1)\n",
    "    xlim = 80*365.25\n",
    "    x = np.linspace(0,xlim,num=200)\n",
    "    ax.plot(x,expon.pdf(x,scale=1/pref_lambda(p,value)))\n",
    "    ymax=expon.pdf(0,scale=1/pref_lambda(p,value))\n",
    "    ax.vlines(value,0,ymax,label='percentile: {}'.format(p))\n",
    "    ax.legend()\n",
    "    plt.show\n",
    "    "
   ]
  },
  {
   "cell_type": "code",
   "execution_count": 27,
   "id": "accessible-chaos",
   "metadata": {},
   "outputs": [],
   "source": [
    "interactive_plot = widgets.interactive(draw_exp, p=fixed(0.5), value=(0,80*365.25))\n",
    "output = interactive_plot.children[-1]\n",
    "output.height = '350px'"
   ]
  },
  {
   "cell_type": "code",
   "execution_count": 28,
   "id": "angry-lying",
   "metadata": {},
   "outputs": [
    {
     "data": {
      "application/vnd.jupyter.widget-view+json": {
       "model_id": "55d0c8764eee4ab9bd545a51d9c77138",
       "version_major": 2,
       "version_minor": 0
      },
      "text/plain": [
       "interactive(children=(FloatSlider(value=3652.5, description='value', max=29220.0), Output()), _dom_classes=('w…"
      ]
     },
     "metadata": {},
     "output_type": "display_data"
    }
   ],
   "source": [
    "interactive_plot"
   ]
  },
  {
   "cell_type": "code",
   "execution_count": null,
   "id": "extreme-fusion",
   "metadata": {},
   "outputs": [],
   "source": []
  }
 ],
 "metadata": {
  "kernelspec": {
   "display_name": "Python 3",
   "language": "python",
   "name": "python3"
  },
  "language_info": {
   "codemirror_mode": {
    "name": "ipython",
    "version": 3
   },
   "file_extension": ".py",
   "mimetype": "text/x-python",
   "name": "python",
   "nbconvert_exporter": "python",
   "pygments_lexer": "ipython3",
   "version": "3.7.7"
  }
 },
 "nbformat": 4,
 "nbformat_minor": 5
}
