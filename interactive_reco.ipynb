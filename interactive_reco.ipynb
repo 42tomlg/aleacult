{
 "cells": [
  {
   "cell_type": "code",
   "execution_count": 1,
   "id": "finished-absorption",
   "metadata": {},
   "outputs": [],
   "source": [
    "from ipywidgets import interact, fixed\n",
    "import ipywidgets as widgets\n",
    "from aleacult import *"
   ]
  },
  {
   "cell_type": "code",
   "execution_count": 2,
   "id": "infrared-dietary",
   "metadata": {},
   "outputs": [
    {
     "output_type": "display_data",
     "data": {
      "text/plain": "interactive(children=(IntSlider(value=10, description='value', max=30, min=-10), Output()), _dom_classes=('wid…",
      "application/vnd.jupyter.widget-view+json": {
       "version_major": 2,
       "version_minor": 0,
       "model_id": "8142dab7bdca4e2ea24910448f120362"
      }
     },
     "metadata": {}
    },
    {
     "output_type": "execute_result",
     "data": {
      "text/plain": [
       "<function aleacult.pref_lambda(p=0.5, value=10)>"
      ]
     },
     "metadata": {},
     "execution_count": 2
    }
   ],
   "source": [
    "interact(pref_lambda, p=fixed(0.5),value=10)"
   ]
  },
  {
   "cell_type": "markdown",
   "id": "killing-lecture",
   "metadata": {},
   "source": [
    "Je vais plutôt essayer de faire une fonction qui plot la fonction exponentielle: "
   ]
  },
  {
   "cell_type": "code",
   "execution_count": 4,
   "id": "accessible-chaos",
   "metadata": {},
   "outputs": [],
   "source": [
    "interactive_plot = widgets.interactive(draw_exp, p=fixed(0.5), value=(0,80))\n",
    "output = interactive_plot.children[-1]\n",
    "output.height = '350px'"
   ]
  },
  {
   "cell_type": "code",
   "execution_count": 5,
   "id": "angry-lying",
   "metadata": {},
   "outputs": [
    {
     "output_type": "display_data",
     "data": {
      "text/plain": "interactive(children=(IntSlider(value=80, description='value', max=80), Output()), _dom_classes=('widget-inter…",
      "application/vnd.jupyter.widget-view+json": {
       "version_major": 2,
       "version_minor": 0,
       "model_id": "4773432e049c48bdbad5405fd1255e8d"
      }
     },
     "metadata": {}
    }
   ],
   "source": [
    "interactive_plot"
   ]
  },
  {
   "cell_type": "code",
   "execution_count": 23,
   "metadata": {},
   "outputs": [
    {
     "output_type": "execute_result",
     "data": {
      "text/plain": [
       "(2018, 40)"
      ]
     },
     "metadata": {},
     "execution_count": 23
    }
   ],
   "source": [
    "bouton_magique()"
   ]
  },
  {
   "cell_type": "code",
   "execution_count": null,
   "metadata": {},
   "outputs": [],
   "source": []
  }
 ],
 "metadata": {
  "kernelspec": {
   "display_name": "Python 3",
   "language": "python",
   "name": "python3"
  },
  "language_info": {
   "codemirror_mode": {
    "name": "ipython",
    "version": 3
   },
   "file_extension": ".py",
   "mimetype": "text/x-python",
   "name": "python",
   "nbconvert_exporter": "python",
   "pygments_lexer": "ipython3",
   "version": "3.7.7-final"
  }
 },
 "nbformat": 4,
 "nbformat_minor": 5
}